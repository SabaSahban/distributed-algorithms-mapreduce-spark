{
 "cells": [
  {
   "cell_type": "code",
   "execution_count": 1,
   "metadata": {},
   "outputs": [],
   "source": [
    "import dijkstra_hadoop as dh"
   ]
  },
  {
   "cell_type": "code",
   "execution_count": 2,
   "metadata": {},
   "outputs": [],
   "source": [
    "graph_list = [\n",
    "    [1, 2, 10],\n",
    "    [1, 3, 5],\n",
    "    [2, 3, 2],\n",
    "    [2, 4, 1],\n",
    "    [3, 5, 2],\n",
    "    [3, 2, 3],\n",
    "    [3, 4, 9],\n",
    "    [4, 5, 4],\n",
    "    [5, 1, 7],\n",
    "    [5, 4, 6],\n",
    "]"
   ]
  },
  {
   "cell_type": "code",
   "execution_count": 3,
   "metadata": {},
   "outputs": [
    {
     "data": {
      "text/plain": [
       "{1: [0, [[2, 10], [3, 5]], [1]],\n",
       " 2: [8, [[3, 2], [4, 1]], [1, 3, 2]],\n",
       " 3: [5, [[5, 2], [2, 3], [4, 9]], [1, 3]],\n",
       " 4: [9, [[5, 4]], [1, 3, 2, 4]],\n",
       " 5: [7, [[1, 7], [4, 6]], [1, 3, 5]]}"
      ]
     },
     "execution_count": 3,
     "metadata": {},
     "output_type": "execute_result"
    }
   ],
   "source": [
    "dh.dijkstra(graph_list)"
   ]
  },
  {
   "cell_type": "code",
   "execution_count": null,
   "metadata": {},
   "outputs": [],
   "source": []
  }
 ],
 "metadata": {
  "kernelspec": {
   "display_name": "Python 3 (ipykernel)",
   "language": "python",
   "name": "python3"
  },
  "language_info": {
   "codemirror_mode": {
    "name": "ipython",
    "version": 3
   },
   "file_extension": ".py",
   "mimetype": "text/x-python",
   "name": "python",
   "nbconvert_exporter": "python",
   "pygments_lexer": "ipython3",
   "version": "3.10.6"
  }
 },
 "nbformat": 4,
 "nbformat_minor": 4
}
